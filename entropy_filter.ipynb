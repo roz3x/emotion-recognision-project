{
 "cells": [
  {
   "cell_type": "code",
   "execution_count": 3,
   "metadata": {},
   "outputs": [],
   "source": [
    "dirs = [\"fear\", \"Angry\", \"Happy\", \"Neutral\", \"disgust\"]\n",
    "\n",
    " \n",
    "import glob\n",
    "from skimage.measure import shannon_entropy\n",
    "from skimage.io import imread\n",
    "import shutil\n",
    "\n",
    "for ii in dirs:\n",
    "    files = glob.glob(\"refined/output/\"+ii+\"/*\")\n",
    "    for ff in files:\n",
    "        if shannon_entropy(imread(ff)) >= 6:\n",
    "            shutil.copyfile(ff, \"ent/\"+ff)\n",
    "            \n"
   ]
  }
 ],
 "metadata": {
  "interpreter": {
   "hash": "e7370f93d1d0cde622a1f8e1c04877d8463912d04d973331ad4851f04de6915a"
  },
  "kernelspec": {
   "display_name": "Python 3.9.9 64-bit",
   "language": "python",
   "name": "python3"
  },
  "language_info": {
   "codemirror_mode": {
    "name": "ipython",
    "version": 3
   },
   "file_extension": ".py",
   "mimetype": "text/x-python",
   "name": "python",
   "nbconvert_exporter": "python",
   "pygments_lexer": "ipython3",
   "version": "3.9.9"
  },
  "orig_nbformat": 4
 },
 "nbformat": 4,
 "nbformat_minor": 2
}
